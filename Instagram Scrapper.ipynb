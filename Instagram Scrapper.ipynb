{
 "cells": [
  {
   "cell_type": "markdown",
   "id": "c703f0a7",
   "metadata": {},
   "source": [
    "# Import Statements"
   ]
  },
  {
   "cell_type": "code",
   "execution_count": 1,
   "id": "a9aa6d9a",
   "metadata": {},
   "outputs": [],
   "source": [
    "from selenium import webdriver\n",
    "from selenium.webdriver.common.keys import Keys\n",
    "from selenium.webdriver.support import expected_conditions as EC\n",
    "from selenium.webdriver.common.by import By\n",
    "from selenium.webdriver.support.wait import WebDriverWait\n",
    "import time\n",
    "import pandas as pd\n",
    "import warnings\n",
    "warnings.filterwarnings('ignore')"
   ]
  },
  {
   "cell_type": "markdown",
   "id": "a8f2ef45",
   "metadata": {},
   "source": [
    "# Access Instagram"
   ]
  },
  {
   "cell_type": "code",
   "execution_count": 54,
   "id": "9819b22d",
   "metadata": {},
   "outputs": [
    {
     "name": "stderr",
     "output_type": "stream",
     "text": [
      "C:\\Users\\HP\\AppData\\Local\\Temp\\ipykernel_5548\\1522636012.py:2: DeprecationWarning: executable_path has been deprecated, please pass in a Service object\n",
      "  driver = webdriver.Chrome(driver_path)\n"
     ]
    }
   ],
   "source": [
    "driver_path = 'C:/Program Files/Webdriver/chromedriver.exe'\n",
    "driver = webdriver.Chrome(driver_path)\n",
    "driver.get(\"http://www.instagram.com\")\n",
    "\n",
    "username = WebDriverWait(driver, 10).until(EC.element_to_be_clickable((By.CSS_SELECTOR, \"input[name='username']\")))\n",
    "password = WebDriverWait(driver, 10).until(EC.element_to_be_clickable((By.CSS_SELECTOR, \"input[name='password']\")))\n",
    "\n",
    "username.clear()\n",
    "username.send_keys(\"dummy08912\")   # Enter your username\n",
    "password.clear()\n",
    "password.send_keys(\"internship\")   # Enter your password\n",
    "\n",
    "button = WebDriverWait(driver, 2).until(EC.element_to_be_clickable((By.CSS_SELECTOR, \"button[type='submit']\"))).click()\n",
    "\n",
    "time.sleep(2)\n",
    "alert = WebDriverWait(driver, 15).until(EC.element_to_be_clickable((By.XPATH, '//button[contains(text(), \"Not Now\")]'))).click()\n",
    "\n",
    "time.sleep(2)\n",
    "not_now2 = WebDriverWait(driver,20).until(EC.element_to_be_clickable((By.XPATH, \"//button[contains(text(), 'Not Now')]\"))).click()"
   ]
  },
  {
   "cell_type": "markdown",
   "id": "662663e4",
   "metadata": {},
   "source": [
    "# Keyword Entry"
   ]
  },
  {
   "cell_type": "code",
   "execution_count": 55,
   "id": "1d904485",
   "metadata": {},
   "outputs": [],
   "source": [
    "searchbox = WebDriverWait(driver,20).until(EC.element_to_be_clickable((By.XPATH, \"//input[@placeholder='Search']\")))\n",
    "searchbox.clear()\n",
    "\n",
    "keyword = 'smallbathroomdesign'\n",
    "searchbox.send_keys(keyword)\n",
    "\n",
    "ls = []"
   ]
  },
  {
   "cell_type": "markdown",
   "id": "490e8064",
   "metadata": {},
   "source": [
    "# Scrolling The Page For Scraping"
   ]
  },
  {
   "cell_type": "code",
   "execution_count": 59,
   "id": "b4d95d9f",
   "metadata": {},
   "outputs": [
    {
     "name": "stderr",
     "output_type": "stream",
     "text": [
      "C:\\Users\\HP\\AppData\\Local\\Temp\\ipykernel_5548\\3002759350.py:7: DeprecationWarning: find_elements_by_* commands are deprecated. Please use find_elements() instead\n",
      "  anchors = driver.find_elements_by_class_name('KL4Bh')\n"
     ]
    }
   ],
   "source": [
    "scrolldown = driver.execute_script(\"window.scrollTo(0, document.body.scrollHeight);var scrolldown=document.body.scrollHeight;return scrolldown;\")\n",
    "match=False\n",
    "while(match==False):\n",
    "    last_count = scrolldown\n",
    "    time.sleep(3)\n",
    "    \n",
    "    anchors = driver.find_elements_by_class_name('KL4Bh')\n",
    "    start = anchors\n",
    "    for i in range(len(start)):\n",
    "        start[i] = start[i].find_element_by_class_name('FFVAD')\n",
    "        start[i] = start[i].get_attribute('srcset')\n",
    "    ls.append(start)\n",
    "    \n",
    "    \n",
    "    scrolldown = driver.execute_script(\"window.scrollTo(0, document.body.scrollHeight);var scrolldown=document.body.scrollHeight;return scrolldown;\")\n",
    "    if last_count==scrolldown:\n",
    "        match=True"
   ]
  },
  {
   "cell_type": "markdown",
   "id": "59b29a01",
   "metadata": {},
   "source": [
    "# Data Processing"
   ]
  },
  {
   "cell_type": "code",
   "execution_count": 60,
   "id": "046b429d",
   "metadata": {},
   "outputs": [],
   "source": [
    "temp = []\n",
    "for i in range(len(ls)):\n",
    "    for j in range(len(ls[i])):\n",
    "        temp.append(ls[i][j])\n",
    "ls = []\n",
    "for i in temp:\n",
    "    if i not in ls:\n",
    "        ls.append(i)\n",
    "anchors = ls\n",
    "for i in range(len(anchors)):\n",
    "    anchors[i] = anchors[i].split(' ')[-2]"
   ]
  },
  {
   "cell_type": "markdown",
   "id": "e902644b",
   "metadata": {},
   "source": [
    "# Checking Length"
   ]
  },
  {
   "cell_type": "code",
   "execution_count": 64,
   "id": "9080fbc3",
   "metadata": {},
   "outputs": [
    {
     "data": {
      "text/plain": [
       "1259"
      ]
     },
     "execution_count": 64,
     "metadata": {},
     "output_type": "execute_result"
    }
   ],
   "source": [
    "len(anchors)"
   ]
  },
  {
   "cell_type": "markdown",
   "id": "9bb6ad59",
   "metadata": {},
   "source": [
    "# Data Pipelining"
   ]
  },
  {
   "cell_type": "code",
   "execution_count": 65,
   "id": "66b097d5",
   "metadata": {},
   "outputs": [],
   "source": [
    "for i in range(len(anchors)):\n",
    "    anchors[i] = anchors[i].split(',')[1]"
   ]
  },
  {
   "cell_type": "markdown",
   "id": "870eea25",
   "metadata": {},
   "source": [
    "# Saving Data In DataFrame"
   ]
  },
  {
   "cell_type": "code",
   "execution_count": 66,
   "id": "0bc66aa9",
   "metadata": {},
   "outputs": [],
   "source": [
    "df = pd.DataFrame()\n",
    "df['Links'] = anchors\n",
    "df.index = range(1,len(anchors)+1,1)"
   ]
  },
  {
   "cell_type": "markdown",
   "id": "5fddb024",
   "metadata": {},
   "source": [
    "# Saving Data In CSV"
   ]
  },
  {
   "cell_type": "code",
   "execution_count": 68,
   "id": "54bbfd42",
   "metadata": {},
   "outputs": [],
   "source": [
    "df.to_csv(f'{keyword}.csv')"
   ]
  },
  {
   "cell_type": "markdown",
   "id": "488d6704",
   "metadata": {},
   "source": [
    "# Closing The Driver"
   ]
  },
  {
   "cell_type": "code",
   "execution_count": 69,
   "id": "a56c28a5",
   "metadata": {},
   "outputs": [],
   "source": [
    "driver.close()"
   ]
  }
 ],
 "metadata": {
  "kernelspec": {
   "display_name": "Python 3 (ipykernel)",
   "language": "python",
   "name": "python3"
  },
  "language_info": {
   "codemirror_mode": {
    "name": "ipython",
    "version": 3
   },
   "file_extension": ".py",
   "mimetype": "text/x-python",
   "name": "python",
   "nbconvert_exporter": "python",
   "pygments_lexer": "ipython3",
   "version": "3.10.2"
  }
 },
 "nbformat": 4,
 "nbformat_minor": 5
}
